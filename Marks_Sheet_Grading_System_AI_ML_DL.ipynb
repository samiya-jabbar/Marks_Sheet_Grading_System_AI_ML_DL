{
  "nbformat": 4,
  "nbformat_minor": 0,
  "metadata": {
    "colab": {
      "name": "Marks_Sheet_Grading_System_AI_ML_DL.ipynb",
      "provenance": [],
      "collapsed_sections": [],
      "authorship_tag": "ABX9TyMqzkcQjjq4VNZ4qDQURMPT",
      "include_colab_link": true
    },
    "kernelspec": {
      "name": "python3",
      "display_name": "Python 3"
    },
    "language_info": {
      "name": "python"
    }
  },
  "cells": [
    {
      "cell_type": "markdown",
      "metadata": {
        "id": "view-in-github",
        "colab_type": "text"
      },
      "source": [
        "<a href=\"https://colab.research.google.com/github/samiya-jabbar/Marks_Sheet_Grading_System_AI_ML_DL/blob/main/Marks_Sheet_Grading_System_AI_ML_DL.ipynb\" target=\"_parent\"><img src=\"https://colab.research.google.com/assets/colab-badge.svg\" alt=\"Open In Colab\"/></a>"
      ]
    },
    {
      "cell_type": "code",
      "metadata": {
        "id": "ZoZxcClxgwQv"
      },
      "source": [
        "import numpy as np\n",
        "import pandas as pd"
      ],
      "execution_count": null,
      "outputs": []
    },
    {
      "cell_type": "markdown",
      "metadata": {
        "id": "mGGcmeIAX3n7"
      },
      "source": [
        "# **Preparing Data Set**"
      ]
    },
    {
      "cell_type": "code",
      "metadata": {
        "colab": {
          "base_uri": "https://localhost:8080/",
          "height": 204
        },
        "id": "siqSr_ooh52S",
        "outputId": "7e8c975a-24ed-43e4-f0f4-00a49140cc40"
      },
      "source": [
        "df1 = pd.DataFrame(np.random.randint(20,32, size =(5000,5)),\n",
        "                   columns= ['s1', 's2', 's3', 's4', 's5'])\n",
        "df2 = pd.DataFrame(np.random.randint(33,39, size =(5000,5)),\n",
        "                   columns= ['s1', 's2', 's3', 's4', 's5'])\n",
        "df3 = pd.DataFrame(np.random.randint(40,49, size =(5000,5)),\n",
        "                   columns= ['s1', 's2', 's3', 's4', 's5'])\n",
        "df4 = pd.DataFrame(np.random.randint(50,59, size =(5000,5)),\n",
        "                   columns= ['s1', 's2', 's3', 's4', 's5'])\n",
        "df5 = pd.DataFrame(np.random.randint(60,69, size =(5000,5)),\n",
        "                   columns= ['s1', 's2', 's3', 's4', 's5'])\n",
        "df6 = pd.DataFrame(np.random.randint(70,79, size =(5000,5)),\n",
        "                   columns= ['s1', 's2', 's3', 's4', 's5'])\n",
        "df7 = pd.DataFrame(np.random.randint(80,100, size =(5000,5)),\n",
        "                   columns= ['s1', 's2', 's3', 's4', 's5'])\n",
        "\n",
        "df = pd.concat([df1,df2,df3,df4,df5,df6,df7])\n",
        "\n",
        "del df1,df2,df3,df4,df5,df6,df7\n",
        "\n",
        "df.head()"
      ],
      "execution_count": null,
      "outputs": [
        {
          "output_type": "execute_result",
          "data": {
            "text/html": [
              "<div>\n",
              "<style scoped>\n",
              "    .dataframe tbody tr th:only-of-type {\n",
              "        vertical-align: middle;\n",
              "    }\n",
              "\n",
              "    .dataframe tbody tr th {\n",
              "        vertical-align: top;\n",
              "    }\n",
              "\n",
              "    .dataframe thead th {\n",
              "        text-align: right;\n",
              "    }\n",
              "</style>\n",
              "<table border=\"1\" class=\"dataframe\">\n",
              "  <thead>\n",
              "    <tr style=\"text-align: right;\">\n",
              "      <th></th>\n",
              "      <th>s1</th>\n",
              "      <th>s2</th>\n",
              "      <th>s3</th>\n",
              "      <th>s4</th>\n",
              "      <th>s5</th>\n",
              "    </tr>\n",
              "  </thead>\n",
              "  <tbody>\n",
              "    <tr>\n",
              "      <th>0</th>\n",
              "      <td>27</td>\n",
              "      <td>31</td>\n",
              "      <td>30</td>\n",
              "      <td>31</td>\n",
              "      <td>23</td>\n",
              "    </tr>\n",
              "    <tr>\n",
              "      <th>1</th>\n",
              "      <td>20</td>\n",
              "      <td>27</td>\n",
              "      <td>21</td>\n",
              "      <td>24</td>\n",
              "      <td>29</td>\n",
              "    </tr>\n",
              "    <tr>\n",
              "      <th>2</th>\n",
              "      <td>20</td>\n",
              "      <td>23</td>\n",
              "      <td>25</td>\n",
              "      <td>26</td>\n",
              "      <td>26</td>\n",
              "    </tr>\n",
              "    <tr>\n",
              "      <th>3</th>\n",
              "      <td>27</td>\n",
              "      <td>25</td>\n",
              "      <td>22</td>\n",
              "      <td>27</td>\n",
              "      <td>25</td>\n",
              "    </tr>\n",
              "    <tr>\n",
              "      <th>4</th>\n",
              "      <td>27</td>\n",
              "      <td>23</td>\n",
              "      <td>23</td>\n",
              "      <td>31</td>\n",
              "      <td>23</td>\n",
              "    </tr>\n",
              "  </tbody>\n",
              "</table>\n",
              "</div>"
            ],
            "text/plain": [
              "   s1  s2  s3  s4  s5\n",
              "0  27  31  30  31  23\n",
              "1  20  27  21  24  29\n",
              "2  20  23  25  26  26\n",
              "3  27  25  22  27  25\n",
              "4  27  23  23  31  23"
            ]
          },
          "metadata": {
            "tags": []
          },
          "execution_count": 223
        }
      ]
    },
    {
      "cell_type": "code",
      "metadata": {
        "colab": {
          "base_uri": "https://localhost:8080/"
        },
        "id": "M644XHj3ihni",
        "outputId": "676a21a5-6e49-41cf-bb9f-79530c936346"
      },
      "source": [
        "df.shape"
      ],
      "execution_count": null,
      "outputs": [
        {
          "output_type": "execute_result",
          "data": {
            "text/plain": [
              "(35000, 5)"
            ]
          },
          "metadata": {
            "tags": []
          },
          "execution_count": 224
        }
      ]
    },
    {
      "cell_type": "code",
      "metadata": {
        "colab": {
          "base_uri": "https://localhost:8080/",
          "height": 204
        },
        "id": "116oOQhNj6D8",
        "outputId": "ae1be4cc-7db7-4893-8bcc-ccf43c756b29"
      },
      "source": [
        "df['obtained'] =  df.s1 + df.s2 + df.s3 + df.s4 + df.s5\n",
        "df.head()"
      ],
      "execution_count": null,
      "outputs": [
        {
          "output_type": "execute_result",
          "data": {
            "text/html": [
              "<div>\n",
              "<style scoped>\n",
              "    .dataframe tbody tr th:only-of-type {\n",
              "        vertical-align: middle;\n",
              "    }\n",
              "\n",
              "    .dataframe tbody tr th {\n",
              "        vertical-align: top;\n",
              "    }\n",
              "\n",
              "    .dataframe thead th {\n",
              "        text-align: right;\n",
              "    }\n",
              "</style>\n",
              "<table border=\"1\" class=\"dataframe\">\n",
              "  <thead>\n",
              "    <tr style=\"text-align: right;\">\n",
              "      <th></th>\n",
              "      <th>s1</th>\n",
              "      <th>s2</th>\n",
              "      <th>s3</th>\n",
              "      <th>s4</th>\n",
              "      <th>s5</th>\n",
              "      <th>obtained</th>\n",
              "    </tr>\n",
              "  </thead>\n",
              "  <tbody>\n",
              "    <tr>\n",
              "      <th>0</th>\n",
              "      <td>27</td>\n",
              "      <td>31</td>\n",
              "      <td>30</td>\n",
              "      <td>31</td>\n",
              "      <td>23</td>\n",
              "      <td>142</td>\n",
              "    </tr>\n",
              "    <tr>\n",
              "      <th>1</th>\n",
              "      <td>20</td>\n",
              "      <td>27</td>\n",
              "      <td>21</td>\n",
              "      <td>24</td>\n",
              "      <td>29</td>\n",
              "      <td>121</td>\n",
              "    </tr>\n",
              "    <tr>\n",
              "      <th>2</th>\n",
              "      <td>20</td>\n",
              "      <td>23</td>\n",
              "      <td>25</td>\n",
              "      <td>26</td>\n",
              "      <td>26</td>\n",
              "      <td>120</td>\n",
              "    </tr>\n",
              "    <tr>\n",
              "      <th>3</th>\n",
              "      <td>27</td>\n",
              "      <td>25</td>\n",
              "      <td>22</td>\n",
              "      <td>27</td>\n",
              "      <td>25</td>\n",
              "      <td>126</td>\n",
              "    </tr>\n",
              "    <tr>\n",
              "      <th>4</th>\n",
              "      <td>27</td>\n",
              "      <td>23</td>\n",
              "      <td>23</td>\n",
              "      <td>31</td>\n",
              "      <td>23</td>\n",
              "      <td>127</td>\n",
              "    </tr>\n",
              "  </tbody>\n",
              "</table>\n",
              "</div>"
            ],
            "text/plain": [
              "   s1  s2  s3  s4  s5  obtained\n",
              "0  27  31  30  31  23       142\n",
              "1  20  27  21  24  29       121\n",
              "2  20  23  25  26  26       120\n",
              "3  27  25  22  27  25       126\n",
              "4  27  23  23  31  23       127"
            ]
          },
          "metadata": {
            "tags": []
          },
          "execution_count": 225
        }
      ]
    },
    {
      "cell_type": "code",
      "metadata": {
        "colab": {
          "base_uri": "https://localhost:8080/",
          "height": 204
        },
        "id": "Ayq_6V_QkKkC",
        "outputId": "0dcad107-b957-4e76-deb9-4f5b4e2f9482"
      },
      "source": [
        "df['obtained']= df.loc[:, 's1':'s5'].sum(axis=1)\n",
        "df.head()"
      ],
      "execution_count": null,
      "outputs": [
        {
          "output_type": "execute_result",
          "data": {
            "text/html": [
              "<div>\n",
              "<style scoped>\n",
              "    .dataframe tbody tr th:only-of-type {\n",
              "        vertical-align: middle;\n",
              "    }\n",
              "\n",
              "    .dataframe tbody tr th {\n",
              "        vertical-align: top;\n",
              "    }\n",
              "\n",
              "    .dataframe thead th {\n",
              "        text-align: right;\n",
              "    }\n",
              "</style>\n",
              "<table border=\"1\" class=\"dataframe\">\n",
              "  <thead>\n",
              "    <tr style=\"text-align: right;\">\n",
              "      <th></th>\n",
              "      <th>s1</th>\n",
              "      <th>s2</th>\n",
              "      <th>s3</th>\n",
              "      <th>s4</th>\n",
              "      <th>s5</th>\n",
              "      <th>obtained</th>\n",
              "    </tr>\n",
              "  </thead>\n",
              "  <tbody>\n",
              "    <tr>\n",
              "      <th>0</th>\n",
              "      <td>27</td>\n",
              "      <td>31</td>\n",
              "      <td>30</td>\n",
              "      <td>31</td>\n",
              "      <td>23</td>\n",
              "      <td>142</td>\n",
              "    </tr>\n",
              "    <tr>\n",
              "      <th>1</th>\n",
              "      <td>20</td>\n",
              "      <td>27</td>\n",
              "      <td>21</td>\n",
              "      <td>24</td>\n",
              "      <td>29</td>\n",
              "      <td>121</td>\n",
              "    </tr>\n",
              "    <tr>\n",
              "      <th>2</th>\n",
              "      <td>20</td>\n",
              "      <td>23</td>\n",
              "      <td>25</td>\n",
              "      <td>26</td>\n",
              "      <td>26</td>\n",
              "      <td>120</td>\n",
              "    </tr>\n",
              "    <tr>\n",
              "      <th>3</th>\n",
              "      <td>27</td>\n",
              "      <td>25</td>\n",
              "      <td>22</td>\n",
              "      <td>27</td>\n",
              "      <td>25</td>\n",
              "      <td>126</td>\n",
              "    </tr>\n",
              "    <tr>\n",
              "      <th>4</th>\n",
              "      <td>27</td>\n",
              "      <td>23</td>\n",
              "      <td>23</td>\n",
              "      <td>31</td>\n",
              "      <td>23</td>\n",
              "      <td>127</td>\n",
              "    </tr>\n",
              "  </tbody>\n",
              "</table>\n",
              "</div>"
            ],
            "text/plain": [
              "   s1  s2  s3  s4  s5  obtained\n",
              "0  27  31  30  31  23       142\n",
              "1  20  27  21  24  29       121\n",
              "2  20  23  25  26  26       120\n",
              "3  27  25  22  27  25       126\n",
              "4  27  23  23  31  23       127"
            ]
          },
          "metadata": {
            "tags": []
          },
          "execution_count": 226
        }
      ]
    },
    {
      "cell_type": "code",
      "metadata": {
        "colab": {
          "base_uri": "https://localhost:8080/",
          "height": 204
        },
        "id": "LBhf6eiulJLg",
        "outputId": "98c16eab-1762-407a-e354-0d7c950772bf"
      },
      "source": [
        "df['percentage']= df.obtained/500*100\n",
        "df.head()"
      ],
      "execution_count": null,
      "outputs": [
        {
          "output_type": "execute_result",
          "data": {
            "text/html": [
              "<div>\n",
              "<style scoped>\n",
              "    .dataframe tbody tr th:only-of-type {\n",
              "        vertical-align: middle;\n",
              "    }\n",
              "\n",
              "    .dataframe tbody tr th {\n",
              "        vertical-align: top;\n",
              "    }\n",
              "\n",
              "    .dataframe thead th {\n",
              "        text-align: right;\n",
              "    }\n",
              "</style>\n",
              "<table border=\"1\" class=\"dataframe\">\n",
              "  <thead>\n",
              "    <tr style=\"text-align: right;\">\n",
              "      <th></th>\n",
              "      <th>s1</th>\n",
              "      <th>s2</th>\n",
              "      <th>s3</th>\n",
              "      <th>s4</th>\n",
              "      <th>s5</th>\n",
              "      <th>obtained</th>\n",
              "      <th>percentage</th>\n",
              "    </tr>\n",
              "  </thead>\n",
              "  <tbody>\n",
              "    <tr>\n",
              "      <th>0</th>\n",
              "      <td>27</td>\n",
              "      <td>31</td>\n",
              "      <td>30</td>\n",
              "      <td>31</td>\n",
              "      <td>23</td>\n",
              "      <td>142</td>\n",
              "      <td>28.4</td>\n",
              "    </tr>\n",
              "    <tr>\n",
              "      <th>1</th>\n",
              "      <td>20</td>\n",
              "      <td>27</td>\n",
              "      <td>21</td>\n",
              "      <td>24</td>\n",
              "      <td>29</td>\n",
              "      <td>121</td>\n",
              "      <td>24.2</td>\n",
              "    </tr>\n",
              "    <tr>\n",
              "      <th>2</th>\n",
              "      <td>20</td>\n",
              "      <td>23</td>\n",
              "      <td>25</td>\n",
              "      <td>26</td>\n",
              "      <td>26</td>\n",
              "      <td>120</td>\n",
              "      <td>24.0</td>\n",
              "    </tr>\n",
              "    <tr>\n",
              "      <th>3</th>\n",
              "      <td>27</td>\n",
              "      <td>25</td>\n",
              "      <td>22</td>\n",
              "      <td>27</td>\n",
              "      <td>25</td>\n",
              "      <td>126</td>\n",
              "      <td>25.2</td>\n",
              "    </tr>\n",
              "    <tr>\n",
              "      <th>4</th>\n",
              "      <td>27</td>\n",
              "      <td>23</td>\n",
              "      <td>23</td>\n",
              "      <td>31</td>\n",
              "      <td>23</td>\n",
              "      <td>127</td>\n",
              "      <td>25.4</td>\n",
              "    </tr>\n",
              "  </tbody>\n",
              "</table>\n",
              "</div>"
            ],
            "text/plain": [
              "   s1  s2  s3  s4  s5  obtained  percentage\n",
              "0  27  31  30  31  23       142        28.4\n",
              "1  20  27  21  24  29       121        24.2\n",
              "2  20  23  25  26  26       120        24.0\n",
              "3  27  25  22  27  25       126        25.2\n",
              "4  27  23  23  31  23       127        25.4"
            ]
          },
          "metadata": {
            "tags": []
          },
          "execution_count": 227
        }
      ]
    },
    {
      "cell_type": "markdown",
      "metadata": {
        "id": "kRGIPZpkmAyi"
      },
      "source": [
        "# **Symbolic AI, Classical, Traditional, Rule based Programming**"
      ]
    },
    {
      "cell_type": "code",
      "metadata": {
        "id": "WHiuUDbLmW6-",
        "colab": {
          "base_uri": "https://localhost:8080/",
          "height": 204
        },
        "outputId": "26efa51c-943e-4971-9914-0fe1b4daa16b"
      },
      "source": [
        "def grade(x):\n",
        "  if x >= 80:\n",
        "    return \"A+\"\n",
        "  elif x >= 70:\n",
        "    return \"A\"\n",
        "  elif x >= 60:\n",
        "    return \"B\"\n",
        "  elif x >= 50:\n",
        "    return \"C\"\n",
        "  elif x >= 40:\n",
        "    return \"D\"\n",
        "  elif x >= 33:\n",
        "    return \"E\"\n",
        "  else:\n",
        "    return \"F\"\n",
        "\n",
        "df['Grade'] = df.percentage.apply(grade)\n",
        "df.head()"
      ],
      "execution_count": null,
      "outputs": [
        {
          "output_type": "execute_result",
          "data": {
            "text/html": [
              "<div>\n",
              "<style scoped>\n",
              "    .dataframe tbody tr th:only-of-type {\n",
              "        vertical-align: middle;\n",
              "    }\n",
              "\n",
              "    .dataframe tbody tr th {\n",
              "        vertical-align: top;\n",
              "    }\n",
              "\n",
              "    .dataframe thead th {\n",
              "        text-align: right;\n",
              "    }\n",
              "</style>\n",
              "<table border=\"1\" class=\"dataframe\">\n",
              "  <thead>\n",
              "    <tr style=\"text-align: right;\">\n",
              "      <th></th>\n",
              "      <th>s1</th>\n",
              "      <th>s2</th>\n",
              "      <th>s3</th>\n",
              "      <th>s4</th>\n",
              "      <th>s5</th>\n",
              "      <th>obtained</th>\n",
              "      <th>percentage</th>\n",
              "      <th>Grade</th>\n",
              "    </tr>\n",
              "  </thead>\n",
              "  <tbody>\n",
              "    <tr>\n",
              "      <th>0</th>\n",
              "      <td>27</td>\n",
              "      <td>31</td>\n",
              "      <td>30</td>\n",
              "      <td>31</td>\n",
              "      <td>23</td>\n",
              "      <td>142</td>\n",
              "      <td>28.4</td>\n",
              "      <td>F</td>\n",
              "    </tr>\n",
              "    <tr>\n",
              "      <th>1</th>\n",
              "      <td>20</td>\n",
              "      <td>27</td>\n",
              "      <td>21</td>\n",
              "      <td>24</td>\n",
              "      <td>29</td>\n",
              "      <td>121</td>\n",
              "      <td>24.2</td>\n",
              "      <td>F</td>\n",
              "    </tr>\n",
              "    <tr>\n",
              "      <th>2</th>\n",
              "      <td>20</td>\n",
              "      <td>23</td>\n",
              "      <td>25</td>\n",
              "      <td>26</td>\n",
              "      <td>26</td>\n",
              "      <td>120</td>\n",
              "      <td>24.0</td>\n",
              "      <td>F</td>\n",
              "    </tr>\n",
              "    <tr>\n",
              "      <th>3</th>\n",
              "      <td>27</td>\n",
              "      <td>25</td>\n",
              "      <td>22</td>\n",
              "      <td>27</td>\n",
              "      <td>25</td>\n",
              "      <td>126</td>\n",
              "      <td>25.2</td>\n",
              "      <td>F</td>\n",
              "    </tr>\n",
              "    <tr>\n",
              "      <th>4</th>\n",
              "      <td>27</td>\n",
              "      <td>23</td>\n",
              "      <td>23</td>\n",
              "      <td>31</td>\n",
              "      <td>23</td>\n",
              "      <td>127</td>\n",
              "      <td>25.4</td>\n",
              "      <td>F</td>\n",
              "    </tr>\n",
              "  </tbody>\n",
              "</table>\n",
              "</div>"
            ],
            "text/plain": [
              "   s1  s2  s3  s4  s5  obtained  percentage Grade\n",
              "0  27  31  30  31  23       142        28.4     F\n",
              "1  20  27  21  24  29       121        24.2     F\n",
              "2  20  23  25  26  26       120        24.0     F\n",
              "3  27  25  22  27  25       126        25.2     F\n",
              "4  27  23  23  31  23       127        25.4     F"
            ]
          },
          "metadata": {
            "tags": []
          },
          "execution_count": 228
        }
      ]
    },
    {
      "cell_type": "code",
      "metadata": {
        "colab": {
          "base_uri": "https://localhost:8080/"
        },
        "id": "NCyHi9oq01nP",
        "outputId": "040d7eeb-dfe8-402f-f24d-753cc4626ec1"
      },
      "source": [
        "df.Grade.value_counts()"
      ],
      "execution_count": null,
      "outputs": [
        {
          "output_type": "execute_result",
          "data": {
            "text/plain": [
              "A     5000\n",
              "D     5000\n",
              "A+    5000\n",
              "B     5000\n",
              "E     5000\n",
              "F     5000\n",
              "C     5000\n",
              "Name: Grade, dtype: int64"
            ]
          },
          "metadata": {
            "tags": []
          },
          "execution_count": 229
        }
      ]
    },
    {
      "cell_type": "code",
      "metadata": {
        "colab": {
          "base_uri": "https://localhost:8080/",
          "height": 329
        },
        "id": "iUZQ7g4m054p",
        "outputId": "f53a42f1-3e3c-4fb4-fac8-33c0ebf4e05a"
      },
      "source": [
        "df.corr().plot(kind='bar')"
      ],
      "execution_count": null,
      "outputs": [
        {
          "output_type": "execute_result",
          "data": {
            "text/plain": [
              "<matplotlib.axes._subplots.AxesSubplot at 0x7f7368348910>"
            ]
          },
          "metadata": {
            "tags": []
          },
          "execution_count": 230
        },
        {
          "output_type": "display_data",
          "data": {
            "image/png": "[encoded data removed]",
            "text/plain": [
              "<Figure size 432x288 with 1 Axes>"
            ]
          },
          "metadata": {
            "tags": [],
            "needs_background": "light"
          }
        }
      ]
    },
    {
      "cell_type": "code",
      "metadata": {
        "id": "6iHYXBTc6blm"
      },
      "source": [
        "dic = {\n",
        "    'A+': 7,\n",
        "    'A' : 6,\n",
        "    'B' : 5,\n",
        "    'C' : 4,\n",
        "    'D' : 3,\n",
        "    'E' : 2,\n",
        "    'F' : 1\n",
        "    }"
      ],
      "execution_count": null,
      "outputs": []
    },
    {
      "cell_type": "code",
      "metadata": {
        "colab": {
          "base_uri": "https://localhost:8080/",
          "height": 204
        },
        "id": "fTLIjO8f7gdD",
        "outputId": "5c744904-1bbb-477e-935d-859fe7123b69"
      },
      "source": [
        "df['Grade1'] = df.Grade.map(dic)\n",
        "df.head()"
      ],
      "execution_count": null,
      "outputs": [
        {
          "output_type": "execute_result",
          "data": {
            "text/html": [
              "<div>\n",
              "<style scoped>\n",
              "    .dataframe tbody tr th:only-of-type {\n",
              "        vertical-align: middle;\n",
              "    }\n",
              "\n",
              "    .dataframe tbody tr th {\n",
              "        vertical-align: top;\n",
              "    }\n",
              "\n",
              "    .dataframe thead th {\n",
              "        text-align: right;\n",
              "    }\n",
              "</style>\n",
              "<table border=\"1\" class=\"dataframe\">\n",
              "  <thead>\n",
              "    <tr style=\"text-align: right;\">\n",
              "      <th></th>\n",
              "      <th>s1</th>\n",
              "      <th>s2</th>\n",
              "      <th>s3</th>\n",
              "      <th>s4</th>\n",
              "      <th>s5</th>\n",
              "      <th>obtained</th>\n",
              "      <th>percentage</th>\n",
              "      <th>Grade</th>\n",
              "      <th>Grade1</th>\n",
              "    </tr>\n",
              "  </thead>\n",
              "  <tbody>\n",
              "    <tr>\n",
              "      <th>0</th>\n",
              "      <td>27</td>\n",
              "      <td>31</td>\n",
              "      <td>30</td>\n",
              "      <td>31</td>\n",
              "      <td>23</td>\n",
              "      <td>142</td>\n",
              "      <td>28.4</td>\n",
              "      <td>F</td>\n",
              "      <td>1</td>\n",
              "    </tr>\n",
              "    <tr>\n",
              "      <th>1</th>\n",
              "      <td>20</td>\n",
              "      <td>27</td>\n",
              "      <td>21</td>\n",
              "      <td>24</td>\n",
              "      <td>29</td>\n",
              "      <td>121</td>\n",
              "      <td>24.2</td>\n",
              "      <td>F</td>\n",
              "      <td>1</td>\n",
              "    </tr>\n",
              "    <tr>\n",
              "      <th>2</th>\n",
              "      <td>20</td>\n",
              "      <td>23</td>\n",
              "      <td>25</td>\n",
              "      <td>26</td>\n",
              "      <td>26</td>\n",
              "      <td>120</td>\n",
              "      <td>24.0</td>\n",
              "      <td>F</td>\n",
              "      <td>1</td>\n",
              "    </tr>\n",
              "    <tr>\n",
              "      <th>3</th>\n",
              "      <td>27</td>\n",
              "      <td>25</td>\n",
              "      <td>22</td>\n",
              "      <td>27</td>\n",
              "      <td>25</td>\n",
              "      <td>126</td>\n",
              "      <td>25.2</td>\n",
              "      <td>F</td>\n",
              "      <td>1</td>\n",
              "    </tr>\n",
              "    <tr>\n",
              "      <th>4</th>\n",
              "      <td>27</td>\n",
              "      <td>23</td>\n",
              "      <td>23</td>\n",
              "      <td>31</td>\n",
              "      <td>23</td>\n",
              "      <td>127</td>\n",
              "      <td>25.4</td>\n",
              "      <td>F</td>\n",
              "      <td>1</td>\n",
              "    </tr>\n",
              "  </tbody>\n",
              "</table>\n",
              "</div>"
            ],
            "text/plain": [
              "   s1  s2  s3  s4  s5  obtained  percentage Grade  Grade1\n",
              "0  27  31  30  31  23       142        28.4     F       1\n",
              "1  20  27  21  24  29       121        24.2     F       1\n",
              "2  20  23  25  26  26       120        24.0     F       1\n",
              "3  27  25  22  27  25       126        25.2     F       1\n",
              "4  27  23  23  31  23       127        25.4     F       1"
            ]
          },
          "metadata": {
            "tags": []
          },
          "execution_count": 232
        }
      ]
    },
    {
      "cell_type": "code",
      "metadata": {
        "colab": {
          "base_uri": "https://localhost:8080/",
          "height": 329
        },
        "id": "HeybEPO87rJ4",
        "outputId": "68a02133-3279-43be-ec4a-7c132ad567bd"
      },
      "source": [
        "df.corr().plot(kind='bar')"
      ],
      "execution_count": null,
      "outputs": [
        {
          "output_type": "execute_result",
          "data": {
            "text/plain": [
              "<matplotlib.axes._subplots.AxesSubplot at 0x7f73672444d0>"
            ]
          },
          "metadata": {
            "tags": []
          },
          "execution_count": 233
        },
        {
          "output_type": "display_data",
          "data": {
            "image/png": "[encoded data removed]",
            "text/plain": [
              "<Figure size 432x288 with 1 Axes>"
            ]
          },
          "metadata": {
            "tags": [],
            "needs_background": "light"
          }
        }
      ]
    },
    {
      "cell_type": "markdown",
      "metadata": {
        "id": "50hKFtkz8ssj"
      },
      "source": [
        "# **Find Grades(Rules) with Deep Learning- Neural Networks**"
      ]
    },
    {
      "cell_type": "code",
      "metadata": {
        "colab": {
          "base_uri": "https://localhost:8080/",
          "height": 359
        },
        "id": "y_siZat181eM",
        "outputId": "3a10868e-7172-4180-bf13-0a1e6e0e09ae"
      },
      "source": [
        "df1 = df[['s1', 's2', 's3', 's4', 's5', 'Grade']]\n",
        "df1.head(2)\n",
        "df1 = df1.sample(frac=1)\n",
        "df1.head(10)"
      ],
      "execution_count": null,
      "outputs": [
        {
          "output_type": "execute_result",
          "data": {
            "text/html": [
              "<div>\n",
              "<style scoped>\n",
              "    .dataframe tbody tr th:only-of-type {\n",
              "        vertical-align: middle;\n",
              "    }\n",
              "\n",
              "    .dataframe tbody tr th {\n",
              "        vertical-align: top;\n",
              "    }\n",
              "\n",
              "    .dataframe thead th {\n",
              "        text-align: right;\n",
              "    }\n",
              "</style>\n",
              "<table border=\"1\" class=\"dataframe\">\n",
              "  <thead>\n",
              "    <tr style=\"text-align: right;\">\n",
              "      <th></th>\n",
              "      <th>s1</th>\n",
              "      <th>s2</th>\n",
              "      <th>s3</th>\n",
              "      <th>s4</th>\n",
              "      <th>s5</th>\n",
              "      <th>Grade</th>\n",
              "    </tr>\n",
              "  </thead>\n",
              "  <tbody>\n",
              "    <tr>\n",
              "      <th>1882</th>\n",
              "      <td>46</td>\n",
              "      <td>46</td>\n",
              "      <td>48</td>\n",
              "      <td>46</td>\n",
              "      <td>43</td>\n",
              "      <td>D</td>\n",
              "    </tr>\n",
              "    <tr>\n",
              "      <th>3300</th>\n",
              "      <td>30</td>\n",
              "      <td>31</td>\n",
              "      <td>23</td>\n",
              "      <td>31</td>\n",
              "      <td>28</td>\n",
              "      <td>F</td>\n",
              "    </tr>\n",
              "    <tr>\n",
              "      <th>403</th>\n",
              "      <td>21</td>\n",
              "      <td>25</td>\n",
              "      <td>26</td>\n",
              "      <td>31</td>\n",
              "      <td>25</td>\n",
              "      <td>F</td>\n",
              "    </tr>\n",
              "    <tr>\n",
              "      <th>1829</th>\n",
              "      <td>93</td>\n",
              "      <td>85</td>\n",
              "      <td>84</td>\n",
              "      <td>93</td>\n",
              "      <td>88</td>\n",
              "      <td>A+</td>\n",
              "    </tr>\n",
              "    <tr>\n",
              "      <th>4755</th>\n",
              "      <td>58</td>\n",
              "      <td>51</td>\n",
              "      <td>51</td>\n",
              "      <td>57</td>\n",
              "      <td>50</td>\n",
              "      <td>C</td>\n",
              "    </tr>\n",
              "    <tr>\n",
              "      <th>2176</th>\n",
              "      <td>25</td>\n",
              "      <td>25</td>\n",
              "      <td>21</td>\n",
              "      <td>27</td>\n",
              "      <td>30</td>\n",
              "      <td>F</td>\n",
              "    </tr>\n",
              "    <tr>\n",
              "      <th>1518</th>\n",
              "      <td>64</td>\n",
              "      <td>61</td>\n",
              "      <td>60</td>\n",
              "      <td>65</td>\n",
              "      <td>63</td>\n",
              "      <td>B</td>\n",
              "    </tr>\n",
              "    <tr>\n",
              "      <th>2493</th>\n",
              "      <td>68</td>\n",
              "      <td>64</td>\n",
              "      <td>61</td>\n",
              "      <td>68</td>\n",
              "      <td>66</td>\n",
              "      <td>B</td>\n",
              "    </tr>\n",
              "    <tr>\n",
              "      <th>4298</th>\n",
              "      <td>33</td>\n",
              "      <td>37</td>\n",
              "      <td>36</td>\n",
              "      <td>35</td>\n",
              "      <td>37</td>\n",
              "      <td>E</td>\n",
              "    </tr>\n",
              "    <tr>\n",
              "      <th>2609</th>\n",
              "      <td>26</td>\n",
              "      <td>28</td>\n",
              "      <td>22</td>\n",
              "      <td>29</td>\n",
              "      <td>30</td>\n",
              "      <td>F</td>\n",
              "    </tr>\n",
              "  </tbody>\n",
              "</table>\n",
              "</div>"
            ],
            "text/plain": [
              "      s1  s2  s3  s4  s5 Grade\n",
              "1882  46  46  48  46  43     D\n",
              "3300  30  31  23  31  28     F\n",
              "403   21  25  26  31  25     F\n",
              "1829  93  85  84  93  88    A+\n",
              "4755  58  51  51  57  50     C\n",
              "2176  25  25  21  27  30     F\n",
              "1518  64  61  60  65  63     B\n",
              "2493  68  64  61  68  66     B\n",
              "4298  33  37  36  35  37     E\n",
              "2609  26  28  22  29  30     F"
            ]
          },
          "metadata": {
            "tags": []
          },
          "execution_count": 234
        }
      ]
    },
    {
      "cell_type": "code",
      "metadata": {
        "colab": {
          "base_uri": "https://localhost:8080/",
          "height": 204
        },
        "id": "C7ioX5nb9D7K",
        "outputId": "21d62f94-6112-4546-9ae6-c3c88026a263"
      },
      "source": [
        "X = df1.loc[:, 's1':'s5']\n",
        "X.head()"
      ],
      "execution_count": null,
      "outputs": [
        {
          "output_type": "execute_result",
          "data": {
            "text/html": [
              "<div>\n",
              "<style scoped>\n",
              "    .dataframe tbody tr th:only-of-type {\n",
              "        vertical-align: middle;\n",
              "    }\n",
              "\n",
              "    .dataframe tbody tr th {\n",
              "        vertical-align: top;\n",
              "    }\n",
              "\n",
              "    .dataframe thead th {\n",
              "        text-align: right;\n",
              "    }\n",
              "</style>\n",
              "<table border=\"1\" class=\"dataframe\">\n",
              "  <thead>\n",
              "    <tr style=\"text-align: right;\">\n",
              "      <th></th>\n",
              "      <th>s1</th>\n",
              "      <th>s2</th>\n",
              "      <th>s3</th>\n",
              "      <th>s4</th>\n",
              "      <th>s5</th>\n",
              "    </tr>\n",
              "  </thead>\n",
              "  <tbody>\n",
              "    <tr>\n",
              "      <th>1882</th>\n",
              "      <td>46</td>\n",
              "      <td>46</td>\n",
              "      <td>48</td>\n",
              "      <td>46</td>\n",
              "      <td>43</td>\n",
              "    </tr>\n",
              "    <tr>\n",
              "      <th>3300</th>\n",
              "      <td>30</td>\n",
              "      <td>31</td>\n",
              "      <td>23</td>\n",
              "      <td>31</td>\n",
              "      <td>28</td>\n",
              "    </tr>\n",
              "    <tr>\n",
              "      <th>403</th>\n",
              "      <td>21</td>\n",
              "      <td>25</td>\n",
              "      <td>26</td>\n",
              "      <td>31</td>\n",
              "      <td>25</td>\n",
              "    </tr>\n",
              "    <tr>\n",
              "      <th>1829</th>\n",
              "      <td>93</td>\n",
              "      <td>85</td>\n",
              "      <td>84</td>\n",
              "      <td>93</td>\n",
              "      <td>88</td>\n",
              "    </tr>\n",
              "    <tr>\n",
              "      <th>4755</th>\n",
              "      <td>58</td>\n",
              "      <td>51</td>\n",
              "      <td>51</td>\n",
              "      <td>57</td>\n",
              "      <td>50</td>\n",
              "    </tr>\n",
              "  </tbody>\n",
              "</table>\n",
              "</div>"
            ],
            "text/plain": [
              "      s1  s2  s3  s4  s5\n",
              "1882  46  46  48  46  43\n",
              "3300  30  31  23  31  28\n",
              "403   21  25  26  31  25\n",
              "1829  93  85  84  93  88\n",
              "4755  58  51  51  57  50"
            ]
          },
          "metadata": {
            "tags": []
          },
          "execution_count": 235
        }
      ]
    },
    {
      "cell_type": "code",
      "metadata": {
        "colab": {
          "base_uri": "https://localhost:8080/",
          "height": 204
        },
        "id": "M_oykw0FAxAI",
        "outputId": "141085b3-19a9-4409-c9b1-c1e8c6e58acf"
      },
      "source": [
        "Y = df1[['Grade']]\n",
        "Y.head()"
      ],
      "execution_count": null,
      "outputs": [
        {
          "output_type": "execute_result",
          "data": {
            "text/html": [
              "<div>\n",
              "<style scoped>\n",
              "    .dataframe tbody tr th:only-of-type {\n",
              "        vertical-align: middle;\n",
              "    }\n",
              "\n",
              "    .dataframe tbody tr th {\n",
              "        vertical-align: top;\n",
              "    }\n",
              "\n",
              "    .dataframe thead th {\n",
              "        text-align: right;\n",
              "    }\n",
              "</style>\n",
              "<table border=\"1\" class=\"dataframe\">\n",
              "  <thead>\n",
              "    <tr style=\"text-align: right;\">\n",
              "      <th></th>\n",
              "      <th>Grade</th>\n",
              "    </tr>\n",
              "  </thead>\n",
              "  <tbody>\n",
              "    <tr>\n",
              "      <th>1882</th>\n",
              "      <td>D</td>\n",
              "    </tr>\n",
              "    <tr>\n",
              "      <th>3300</th>\n",
              "      <td>F</td>\n",
              "    </tr>\n",
              "    <tr>\n",
              "      <th>403</th>\n",
              "      <td>F</td>\n",
              "    </tr>\n",
              "    <tr>\n",
              "      <th>1829</th>\n",
              "      <td>A+</td>\n",
              "    </tr>\n",
              "    <tr>\n",
              "      <th>4755</th>\n",
              "      <td>C</td>\n",
              "    </tr>\n",
              "  </tbody>\n",
              "</table>\n",
              "</div>"
            ],
            "text/plain": [
              "     Grade\n",
              "1882     D\n",
              "3300     F\n",
              "403      F\n",
              "1829    A+\n",
              "4755     C"
            ]
          },
          "metadata": {
            "tags": []
          },
          "execution_count": 236
        }
      ]
    },
    {
      "cell_type": "code",
      "metadata": {
        "colab": {
          "base_uri": "https://localhost:8080/",
          "height": 204
        },
        "id": "Rs8-Vu1FA7ir",
        "outputId": "94c0baae-3735-403c-d0c8-dd0f7a07a9d6"
      },
      "source": [
        "Y = df1['Grade']\n",
        "Y = pd.get_dummies(Y)\n",
        "Y.head()"
      ],
      "execution_count": null,
      "outputs": [
        {
          "output_type": "execute_result",
          "data": {
            "text/html": [
              "<div>\n",
              "<style scoped>\n",
              "    .dataframe tbody tr th:only-of-type {\n",
              "        vertical-align: middle;\n",
              "    }\n",
              "\n",
              "    .dataframe tbody tr th {\n",
              "        vertical-align: top;\n",
              "    }\n",
              "\n",
              "    .dataframe thead th {\n",
              "        text-align: right;\n",
              "    }\n",
              "</style>\n",
              "<table border=\"1\" class=\"dataframe\">\n",
              "  <thead>\n",
              "    <tr style=\"text-align: right;\">\n",
              "      <th></th>\n",
              "      <th>A</th>\n",
              "      <th>A+</th>\n",
              "      <th>B</th>\n",
              "      <th>C</th>\n",
              "      <th>D</th>\n",
              "      <th>E</th>\n",
              "      <th>F</th>\n",
              "    </tr>\n",
              "  </thead>\n",
              "  <tbody>\n",
              "    <tr>\n",
              "      <th>1882</th>\n",
              "      <td>0</td>\n",
              "      <td>0</td>\n",
              "      <td>0</td>\n",
              "      <td>0</td>\n",
              "      <td>1</td>\n",
              "      <td>0</td>\n",
              "      <td>0</td>\n",
              "    </tr>\n",
              "    <tr>\n",
              "      <th>3300</th>\n",
              "      <td>0</td>\n",
              "      <td>0</td>\n",
              "      <td>0</td>\n",
              "      <td>0</td>\n",
              "      <td>0</td>\n",
              "      <td>0</td>\n",
              "      <td>1</td>\n",
              "    </tr>\n",
              "    <tr>\n",
              "      <th>403</th>\n",
              "      <td>0</td>\n",
              "      <td>0</td>\n",
              "      <td>0</td>\n",
              "      <td>0</td>\n",
              "      <td>0</td>\n",
              "      <td>0</td>\n",
              "      <td>1</td>\n",
              "    </tr>\n",
              "    <tr>\n",
              "      <th>1829</th>\n",
              "      <td>0</td>\n",
              "      <td>1</td>\n",
              "      <td>0</td>\n",
              "      <td>0</td>\n",
              "      <td>0</td>\n",
              "      <td>0</td>\n",
              "      <td>0</td>\n",
              "    </tr>\n",
              "    <tr>\n",
              "      <th>4755</th>\n",
              "      <td>0</td>\n",
              "      <td>0</td>\n",
              "      <td>0</td>\n",
              "      <td>1</td>\n",
              "      <td>0</td>\n",
              "      <td>0</td>\n",
              "      <td>0</td>\n",
              "    </tr>\n",
              "  </tbody>\n",
              "</table>\n",
              "</div>"
            ],
            "text/plain": [
              "      A  A+  B  C  D  E  F\n",
              "1882  0   0  0  0  1  0  0\n",
              "3300  0   0  0  0  0  0  1\n",
              "403   0   0  0  0  0  0  1\n",
              "1829  0   1  0  0  0  0  0\n",
              "4755  0   0  0  1  0  0  0"
            ]
          },
          "metadata": {
            "tags": []
          },
          "execution_count": 237
        }
      ]
    },
    {
      "cell_type": "code",
      "metadata": {
        "id": "Cl0hByUSBgv5"
      },
      "source": [
        "from tensorflow.keras.models import Sequential\n",
        "from tensorflow.keras.layers import Dense\n",
        "from tensorflow.keras.optimizers import Adam, SGD"
      ],
      "execution_count": null,
      "outputs": []
    },
    {
      "cell_type": "code",
      "metadata": {
        "id": "1lVhcbwaCdOP"
      },
      "source": [
        "model = Sequential()\n",
        "model.add(Dense(32, activation='relu', input_shape=(5,)))\n",
        "model.add(Dense(16, activation='relu'))\n",
        "model.add(Dense(7, activation='softmax'))"
      ],
      "execution_count": null,
      "outputs": []
    },
    {
      "cell_type": "code",
      "metadata": {
        "colab": {
          "base_uri": "https://localhost:8080/"
        },
        "id": "9WevubzxD842",
        "outputId": "e8351fbd-c637-4fa9-e845-68591ef0364d"
      },
      "source": [
        "model.summary()"
      ],
      "execution_count": null,
      "outputs": [
        {
          "output_type": "stream",
          "text": [
            "Model: \"sequential_6\"\n",
            "_________________________________________________________________\n",
            "Layer (type)                 Output Shape              Param #   \n",
            "=================================================================\n",
            "dense_14 (Dense)             (None, 32)                192       \n",
            "_________________________________________________________________\n",
            "dense_15 (Dense)             (None, 16)                528       \n",
            "_________________________________________________________________\n",
            "dense_16 (Dense)             (None, 7)                 119       \n",
            "=================================================================\n",
            "Total params: 839\n",
            "Trainable params: 839\n",
            "Non-trainable params: 0\n",
            "_________________________________________________________________\n"
          ],
          "name": "stdout"
        }
      ]
    },
    {
      "cell_type": "code",
      "metadata": {
        "id": "lRFKRtREElU-"
      },
      "source": [
        "model.compile(optimizer=SGD(learning_rate=0.002),\n",
        "              loss= 'categorical_crossentropy',\n",
        "              metrics=['acc'])"
      ],
      "execution_count": null,
      "outputs": []
    },
    {
      "cell_type": "code",
      "metadata": {
        "colab": {
          "base_uri": "https://localhost:8080/"
        },
        "id": "ACbzyDF2FDCS",
        "outputId": "3cf126ac-3376-4e54-ac2e-cd2f5d9495aa"
      },
      "source": [
        "model.fit(X,Y, epochs=20)"
      ],
      "execution_count": null,
      "outputs": [
        {
          "output_type": "stream",
          "text": [
            "Epoch 1/20\n",
            "1094/1094 [==============================] - 2s 1ms/step - loss: 1.9996 - acc: 0.1731\n",
            "Epoch 2/20\n",
            "1094/1094 [==============================] - 1s 1ms/step - loss: 1.7723 - acc: 0.2183\n",
            "Epoch 3/20\n",
            "1094/1094 [==============================] - 1s 1ms/step - loss: 1.6817 - acc: 0.2848\n",
            "Epoch 4/20\n",
            "1094/1094 [==============================] - 1s 1ms/step - loss: 1.6016 - acc: 0.3329\n",
            "Epoch 5/20\n",
            "1094/1094 [==============================] - 1s 1ms/step - loss: 1.5277 - acc: 0.3704\n",
            "Epoch 6/20\n",
            "1094/1094 [==============================] - 1s 1ms/step - loss: 1.4580 - acc: 0.4173\n",
            "Epoch 7/20\n",
            "1094/1094 [==============================] - 1s 1ms/step - loss: 1.3918 - acc: 0.4551\n",
            "Epoch 8/20\n",
            "1094/1094 [==============================] - 1s 1ms/step - loss: 1.3359 - acc: 0.4880\n",
            "Epoch 9/20\n",
            "1094/1094 [==============================] - 1s 1ms/step - loss: 1.2832 - acc: 0.5156\n",
            "Epoch 10/20\n",
            "1094/1094 [==============================] - 1s 1ms/step - loss: 1.2389 - acc: 0.5399\n",
            "Epoch 11/20\n",
            "1094/1094 [==============================] - 1s 1ms/step - loss: 1.1892 - acc: 0.5607\n",
            "Epoch 12/20\n",
            "1094/1094 [==============================] - 1s 1ms/step - loss: 1.1470 - acc: 0.5846\n",
            "Epoch 13/20\n",
            "1094/1094 [==============================] - 1s 1ms/step - loss: 1.1047 - acc: 0.6026\n",
            "Epoch 14/20\n",
            "1094/1094 [==============================] - 1s 1ms/step - loss: 1.0662 - acc: 0.6199\n",
            "Epoch 15/20\n",
            "1094/1094 [==============================] - 1s 1ms/step - loss: 1.0234 - acc: 0.6351\n",
            "Epoch 16/20\n",
            "1094/1094 [==============================] - 1s 1ms/step - loss: 0.9852 - acc: 0.6562\n",
            "Epoch 17/20\n",
            "1094/1094 [==============================] - 1s 1ms/step - loss: 0.9577 - acc: 0.6673\n",
            "Epoch 18/20\n",
            "1094/1094 [==============================] - 1s 1ms/step - loss: 0.9243 - acc: 0.6781\n",
            "Epoch 19/20\n",
            "1094/1094 [==============================] - 1s 1ms/step - loss: 0.8979 - acc: 0.6905\n",
            "Epoch 20/20\n",
            "1094/1094 [==============================] - 1s 1ms/step - loss: 0.8683 - acc: 0.7050\n"
          ],
          "name": "stdout"
        },
        {
          "output_type": "execute_result",
          "data": {
            "text/plain": [
              "<tensorflow.python.keras.callbacks.History at 0x7f736705d7d0>"
            ]
          },
          "metadata": {
            "tags": []
          },
          "execution_count": 242
        }
      ]
    },
    {
      "cell_type": "code",
      "metadata": {
        "id": "nluIw6PTFORo"
      },
      "source": [
        "df1 = pd.DataFrame(np.random.randint(20,100, size= (20, 5)), \n",
        "                    columns = ['s1', 's2', 's3', 's4', 's5'])"
      ],
      "execution_count": null,
      "outputs": []
    },
    {
      "cell_type": "code",
      "metadata": {
        "colab": {
          "base_uri": "https://localhost:8080/"
        },
        "id": "rBSXPPYjNz6n",
        "outputId": "e8210f0c-6dc0-45a2-a0c8-c09a74bddd8e"
      },
      "source": [
        "np.argmax(model.predict([[90,98,95,97,95]]))"
      ],
      "execution_count": null,
      "outputs": [
        {
          "output_type": "execute_result",
          "data": {
            "text/plain": [
              "1"
            ]
          },
          "metadata": {
            "tags": []
          },
          "execution_count": 246
        }
      ]
    },
    {
      "cell_type": "code",
      "metadata": {
        "colab": {
          "base_uri": "https://localhost:8080/"
        },
        "id": "uxQEMu0EKMQd",
        "outputId": "d012ed66-56fd-49e7-c15d-14513d223f2e"
      },
      "source": [
        "Y.columns.take(np.argmax(model.predict([[90,98,95,97,95]]), axis= 1))\n"
      ],
      "execution_count": null,
      "outputs": [
        {
          "output_type": "execute_result",
          "data": {
            "text/plain": [
              "Index(['A+'], dtype='object')"
            ]
          },
          "metadata": {
            "tags": []
          },
          "execution_count": 247
        }
      ]
    },
    {
      "cell_type": "code",
      "metadata": {
        "colab": {
          "base_uri": "https://localhost:8080/",
          "height": 204
        },
        "id": "S7q8RfXfNr2y",
        "outputId": "37296fc9-c4bd-4b6f-f78e-cff1efe489fc"
      },
      "source": [
        "df1['predict']= Y.columns.take(np.argmax(model.predict(df1.loc[:, 's1': 's5']), axis= 1))\n",
        "df1.head()"
      ],
      "execution_count": null,
      "outputs": [
        {
          "output_type": "execute_result",
          "data": {
            "text/html": [
              "<div>\n",
              "<style scoped>\n",
              "    .dataframe tbody tr th:only-of-type {\n",
              "        vertical-align: middle;\n",
              "    }\n",
              "\n",
              "    .dataframe tbody tr th {\n",
              "        vertical-align: top;\n",
              "    }\n",
              "\n",
              "    .dataframe thead th {\n",
              "        text-align: right;\n",
              "    }\n",
              "</style>\n",
              "<table border=\"1\" class=\"dataframe\">\n",
              "  <thead>\n",
              "    <tr style=\"text-align: right;\">\n",
              "      <th></th>\n",
              "      <th>s1</th>\n",
              "      <th>s2</th>\n",
              "      <th>s3</th>\n",
              "      <th>s4</th>\n",
              "      <th>s5</th>\n",
              "      <th>predict</th>\n",
              "    </tr>\n",
              "  </thead>\n",
              "  <tbody>\n",
              "    <tr>\n",
              "      <th>0</th>\n",
              "      <td>75</td>\n",
              "      <td>22</td>\n",
              "      <td>90</td>\n",
              "      <td>44</td>\n",
              "      <td>38</td>\n",
              "      <td>F</td>\n",
              "    </tr>\n",
              "    <tr>\n",
              "      <th>1</th>\n",
              "      <td>54</td>\n",
              "      <td>93</td>\n",
              "      <td>99</td>\n",
              "      <td>91</td>\n",
              "      <td>73</td>\n",
              "      <td>F</td>\n",
              "    </tr>\n",
              "    <tr>\n",
              "      <th>2</th>\n",
              "      <td>84</td>\n",
              "      <td>25</td>\n",
              "      <td>29</td>\n",
              "      <td>85</td>\n",
              "      <td>95</td>\n",
              "      <td>F</td>\n",
              "    </tr>\n",
              "    <tr>\n",
              "      <th>3</th>\n",
              "      <td>36</td>\n",
              "      <td>47</td>\n",
              "      <td>53</td>\n",
              "      <td>22</td>\n",
              "      <td>68</td>\n",
              "      <td>F</td>\n",
              "    </tr>\n",
              "    <tr>\n",
              "      <th>4</th>\n",
              "      <td>31</td>\n",
              "      <td>42</td>\n",
              "      <td>98</td>\n",
              "      <td>85</td>\n",
              "      <td>95</td>\n",
              "      <td>A+</td>\n",
              "    </tr>\n",
              "  </tbody>\n",
              "</table>\n",
              "</div>"
            ],
            "text/plain": [
              "   s1  s2  s3  s4  s5 predict\n",
              "0  75  22  90  44  38       F\n",
              "1  54  93  99  91  73       F\n",
              "2  84  25  29  85  95       F\n",
              "3  36  47  53  22  68       F\n",
              "4  31  42  98  85  95      A+"
            ]
          },
          "metadata": {
            "tags": []
          },
          "execution_count": 251
        }
      ]
    },
    {
      "cell_type": "markdown",
      "metadata": {
        "id": "sqIc2ntBPGUS"
      },
      "source": [
        "**Find Grades(Rules) with Machine Learning- Decision Tree**"
      ]
    },
    {
      "cell_type": "code",
      "metadata": {
        "id": "TtRX-q9oKsaY"
      },
      "source": [
        "from sklearn.tree import DecisionTreeClassifier\n",
        "from sklearn.model_selection import train_test_split\n",
        "from sklearn import metrics"
      ],
      "execution_count": null,
      "outputs": []
    },
    {
      "cell_type": "code",
      "metadata": {
        "id": "ePb_6zQWPn4c"
      },
      "source": [
        "feature_cols = ['percentage']\n",
        "X = df[feature_cols]\n",
        "Y = df.Grade"
      ],
      "execution_count": null,
      "outputs": []
    },
    {
      "cell_type": "code",
      "metadata": {
        "colab": {
          "base_uri": "https://localhost:8080/",
          "height": 204
        },
        "id": "3KIOBZFaP0zZ",
        "outputId": "70eac8d0-d307-4fc0-883b-9e58a79fc5ca"
      },
      "source": [
        "X.head()"
      ],
      "execution_count": null,
      "outputs": [
        {
          "output_type": "execute_result",
          "data": {
            "text/html": [
              "<div>\n",
              "<style scoped>\n",
              "    .dataframe tbody tr th:only-of-type {\n",
              "        vertical-align: middle;\n",
              "    }\n",
              "\n",
              "    .dataframe tbody tr th {\n",
              "        vertical-align: top;\n",
              "    }\n",
              "\n",
              "    .dataframe thead th {\n",
              "        text-align: right;\n",
              "    }\n",
              "</style>\n",
              "<table border=\"1\" class=\"dataframe\">\n",
              "  <thead>\n",
              "    <tr style=\"text-align: right;\">\n",
              "      <th></th>\n",
              "      <th>percentage</th>\n",
              "    </tr>\n",
              "  </thead>\n",
              "  <tbody>\n",
              "    <tr>\n",
              "      <th>0</th>\n",
              "      <td>28.4</td>\n",
              "    </tr>\n",
              "    <tr>\n",
              "      <th>1</th>\n",
              "      <td>24.2</td>\n",
              "    </tr>\n",
              "    <tr>\n",
              "      <th>2</th>\n",
              "      <td>24.0</td>\n",
              "    </tr>\n",
              "    <tr>\n",
              "      <th>3</th>\n",
              "      <td>25.2</td>\n",
              "    </tr>\n",
              "    <tr>\n",
              "      <th>4</th>\n",
              "      <td>25.4</td>\n",
              "    </tr>\n",
              "  </tbody>\n",
              "</table>\n",
              "</div>"
            ],
            "text/plain": [
              "   percentage\n",
              "0        28.4\n",
              "1        24.2\n",
              "2        24.0\n",
              "3        25.2\n",
              "4        25.4"
            ]
          },
          "metadata": {
            "tags": []
          },
          "execution_count": 255
        }
      ]
    },
    {
      "cell_type": "code",
      "metadata": {
        "colab": {
          "base_uri": "https://localhost:8080/"
        },
        "id": "6VS-7uCgP27D",
        "outputId": "ebf6e9c7-0cbc-45a2-c7bb-efa1ae809d01"
      },
      "source": [
        "Y.head()"
      ],
      "execution_count": null,
      "outputs": [
        {
          "output_type": "execute_result",
          "data": {
            "text/plain": [
              "0    F\n",
              "1    F\n",
              "2    F\n",
              "3    F\n",
              "4    F\n",
              "Name: Grade, dtype: object"
            ]
          },
          "metadata": {
            "tags": []
          },
          "execution_count": 256
        }
      ]
    },
    {
      "cell_type": "code",
      "metadata": {
        "id": "ar1ujaxgP5rS"
      },
      "source": [
        "X_train, X_test, Y_train, Y_test = train_test_split(X,Y, test_size=0.3,random_state= 1)"
      ],
      "execution_count": null,
      "outputs": []
    },
    {
      "cell_type": "code",
      "metadata": {
        "id": "BGkMJSzAVcQv"
      },
      "source": [
        "#Create Decision Tree Classifier Object\n",
        "clf = DecisionTreeClassifier()"
      ],
      "execution_count": null,
      "outputs": []
    },
    {
      "cell_type": "code",
      "metadata": {
        "id": "pO9at-FGU73P"
      },
      "source": [
        "#Train Decision Tree Classifier \n",
        "clf = clf.fit(X_train,Y_train)"
      ],
      "execution_count": null,
      "outputs": []
    },
    {
      "cell_type": "code",
      "metadata": {
        "id": "CviigM1YVTb7"
      },
      "source": [
        "#predict the response for test data set\n",
        "Y_pred = clf.predict(X_test)"
      ],
      "execution_count": null,
      "outputs": []
    },
    {
      "cell_type": "code",
      "metadata": {
        "colab": {
          "base_uri": "https://localhost:8080/"
        },
        "id": "gyJHbbxsV6UL",
        "outputId": "e83bf291-b617-4bbf-bf16-007aec54a395"
      },
      "source": [
        "print(\"Accuracy:\", metrics.accuracy_score(Y_test,Y_pred))"
      ],
      "execution_count": null,
      "outputs": [
        {
          "output_type": "stream",
          "text": [
            "Accuracy: 1.0\n"
          ],
          "name": "stdout"
        }
      ]
    },
    {
      "cell_type": "code",
      "metadata": {
        "id": "EY-xISzxWdFB"
      },
      "source": [
        "from sklearn import tree\n",
        "import matplotlib.pyplot as plt"
      ],
      "execution_count": null,
      "outputs": []
    },
    {
      "cell_type": "code",
      "metadata": {
        "colab": {
          "base_uri": "https://localhost:8080/",
          "height": 816
        },
        "id": "KGlVuApOWvO-",
        "outputId": "f1857d41-3a86-4b8b-a437-b6ece179faee"
      },
      "source": [
        "plt.figure(figsize=(15,10))\n",
        "tree.plot_tree(clf, filled=tree, class_names=True, fontsize= 12)"
      ],
      "execution_count": null,
      "outputs": [
        {
          "output_type": "execute_result",
          "data": {
            "text/plain": [
              "[Text(651.0, 498.3, 'X[0] <= 79.5\\ngini = 0.857\\nsamples = 24500\\nvalue = [3520, 3543, 3516, 3469, 3505, 3494, 3453]\\nclass = y[1]'),\n",
              " Text(558.0, 407.70000000000005, 'X[0] <= 69.0\\ngini = 0.833\\nsamples = 20957\\nvalue = [3520, 0, 3516, 3469, 3505, 3494, 3453]\\nclass = y[0]'),\n",
              " Text(465.0, 317.1, 'X[0] <= 59.0\\ngini = 0.8\\nsamples = 17437\\nvalue = [0, 0, 3516, 3469, 3505, 3494, 3453]\\nclass = y[2]'),\n",
              " Text(372.0, 226.5, 'X[0] <= 39.1\\ngini = 0.75\\nsamples = 13921\\nvalue = [0, 0, 0, 3469, 3505, 3494, 3453]\\nclass = y[4]'),\n",
              " Text(186.0, 135.89999999999998, 'X[0] <= 31.5\\ngini = 0.5\\nsamples = 6947\\nvalue = [0, 0, 0, 0, 0, 3494, 3453]\\nclass = y[5]'),\n",
              " Text(93.0, 45.299999999999955, 'gini = 0.0\\nsamples = 3453\\nvalue = [0, 0, 0, 0, 0, 0, 3453]\\nclass = y[6]'),\n",
              " Text(279.0, 45.299999999999955, 'gini = 0.0\\nsamples = 3494\\nvalue = [0, 0, 0, 0, 0, 3494, 0]\\nclass = y[5]'),\n",
              " Text(558.0, 135.89999999999998, 'X[0] <= 49.2\\ngini = 0.5\\nsamples = 6974\\nvalue = [0, 0, 0, 3469, 3505, 0, 0]\\nclass = y[4]'),\n",
              " Text(465.0, 45.299999999999955, 'gini = 0.0\\nsamples = 3505\\nvalue = [0, 0, 0, 0, 3505, 0, 0]\\nclass = y[4]'),\n",
              " Text(651.0, 45.299999999999955, 'gini = 0.0\\nsamples = 3469\\nvalue = [0, 0, 0, 3469, 0, 0, 0]\\nclass = y[3]'),\n",
              " Text(558.0, 226.5, 'gini = 0.0\\nsamples = 3516\\nvalue = [0, 0, 3516, 0, 0, 0, 0]\\nclass = y[2]'),\n",
              " Text(651.0, 317.1, 'gini = 0.0\\nsamples = 3520\\nvalue = [3520, 0, 0, 0, 0, 0, 0]\\nclass = y[0]'),\n",
              " Text(744.0, 407.70000000000005, 'gini = 0.0\\nsamples = 3543\\nvalue = [0, 3543, 0, 0, 0, 0, 0]\\nclass = y[1]')]"
            ]
          },
          "metadata": {
            "tags": []
          },
          "execution_count": 273
        },
        {
          "output_type": "display_data",
          "data": {
            "image/png": "[encoded data removed]",
            "text/plain": [
              "<Figure size 1080x720 with 1 Axes>"
            ]
          },
          "metadata": {
            "tags": [],
            "needs_background": "light"
          }
        }
      ]
    },
    {
      "cell_type": "code",
      "metadata": {
        "id": "DfzCokxEW_G-"
      },
      "source": [
        ""
      ],
      "execution_count": null,
      "outputs": []
    }
  ]
}